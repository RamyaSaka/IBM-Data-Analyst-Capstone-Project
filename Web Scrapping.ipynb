{
 "cells": [
  {
   "cell_type": "markdown",
   "id": "02708f8f-ade3-4bf8-a259-c3e455975645",
   "metadata": {},
   "source": [
    "## Extracting information from the given website"
   ]
  },
  {
   "cell_type": "code",
   "execution_count": 5,
   "id": "de1e4ccc-1fa5-44dd-8e40-0147d50d2ac2",
   "metadata": {},
   "outputs": [],
   "source": [
    "from bs4 import BeautifulSoup                         # It is used for webscrapping\n",
    "import requests                                        # used to download a webpage\n",
    "import pandas as pd"
   ]
  },
  {
   "cell_type": "code",
   "execution_count": 6,
   "id": "6cd5d607-cdc7-45ce-b66f-4932d17375fc",
   "metadata": {},
   "outputs": [],
   "source": [
    "\n",
    "url = \"https://cf-courses-data.s3.us.cloud-object-storage.appdomain.cloud/IBM-DA0321EN-SkillsNetwork/labs/datasets/Programming_Languages.html\""
   ]
  },
  {
   "cell_type": "code",
   "execution_count": 7,
   "id": "9159602f-90f1-4946-b105-d13bd247ee0a",
   "metadata": {},
   "outputs": [],
   "source": [
    "# Downloading the webpage at url\n",
    "\n",
    "data= requests.get(url).text              # Get the contents of web page in text format and store it in variable called data"
   ]
  },
  {
   "cell_type": "code",
   "execution_count": 8,
   "id": "21a03325-4fb1-4ad3-adef-903e7dad4d0d",
   "metadata": {},
   "outputs": [],
   "source": [
    "# Creating the soup object\n",
    "\n",
    "soup=BeautifulSoup(data,'html.parser')"
   ]
  },
  {
   "cell_type": "code",
   "execution_count": 10,
   "id": "6da9ffa9-eee0-45da-b124-71482d76c5bd",
   "metadata": {},
   "outputs": [],
   "source": [
    "# Scrapping Language naem and annual average salary\n",
    "\n",
    "table=soup.find('table')\n",
    "table_rows = table.find_all(\"tr\")\n",
    "l=[]\n",
    "for tr in table_rows:\n",
    "    td=tr.find_all('td')\n",
    "    row=[tr.text for tr in td]\n",
    "    l.append(row)  \n",
    "#df=pd.DataFrame(l,columns=[\"Language name\",\"annual average salary\"])\n",
    "df=pd.DataFrame(l,columns=[\"Column1\",\"language\",\"c3\",\"salary\",\"c5\"])\n",
    "df\n",
    "df.drop(columns=[\"Column1\",\"c3\",\"c5\"], inplace=True)\n",
    "df.to_csv('popular-languages.csv')                                 # Saving the scrapped data into CSV file   "
   ]
  },
  {
   "cell_type": "code",
   "execution_count": 11,
   "id": "91cd0b41-a8f1-49eb-b97d-0b2245469efa",
   "metadata": {},
   "outputs": [
    {
     "data": {
      "text/html": [
       "<div>\n",
       "<style scoped>\n",
       "    .dataframe tbody tr th:only-of-type {\n",
       "        vertical-align: middle;\n",
       "    }\n",
       "\n",
       "    .dataframe tbody tr th {\n",
       "        vertical-align: top;\n",
       "    }\n",
       "\n",
       "    .dataframe thead th {\n",
       "        text-align: right;\n",
       "    }\n",
       "</style>\n",
       "<table border=\"1\" class=\"dataframe\">\n",
       "  <thead>\n",
       "    <tr style=\"text-align: right;\">\n",
       "      <th></th>\n",
       "      <th>Unnamed: 0</th>\n",
       "      <th>language</th>\n",
       "      <th>salary</th>\n",
       "    </tr>\n",
       "  </thead>\n",
       "  <tbody>\n",
       "    <tr>\n",
       "      <th>0</th>\n",
       "      <td>0</td>\n",
       "      <td>Language</td>\n",
       "      <td>Average Annual Salary</td>\n",
       "    </tr>\n",
       "    <tr>\n",
       "      <th>1</th>\n",
       "      <td>1</td>\n",
       "      <td>Python</td>\n",
       "      <td>$114,383</td>\n",
       "    </tr>\n",
       "    <tr>\n",
       "      <th>2</th>\n",
       "      <td>2</td>\n",
       "      <td>Java</td>\n",
       "      <td>$101,013</td>\n",
       "    </tr>\n",
       "    <tr>\n",
       "      <th>3</th>\n",
       "      <td>3</td>\n",
       "      <td>R</td>\n",
       "      <td>$92,037</td>\n",
       "    </tr>\n",
       "    <tr>\n",
       "      <th>4</th>\n",
       "      <td>4</td>\n",
       "      <td>Javascript</td>\n",
       "      <td>$110,981</td>\n",
       "    </tr>\n",
       "    <tr>\n",
       "      <th>5</th>\n",
       "      <td>5</td>\n",
       "      <td>Swift</td>\n",
       "      <td>$130,801</td>\n",
       "    </tr>\n",
       "    <tr>\n",
       "      <th>6</th>\n",
       "      <td>6</td>\n",
       "      <td>C++</td>\n",
       "      <td>$113,865</td>\n",
       "    </tr>\n",
       "    <tr>\n",
       "      <th>7</th>\n",
       "      <td>7</td>\n",
       "      <td>C#</td>\n",
       "      <td>$88,726</td>\n",
       "    </tr>\n",
       "    <tr>\n",
       "      <th>8</th>\n",
       "      <td>8</td>\n",
       "      <td>PHP</td>\n",
       "      <td>$84,727</td>\n",
       "    </tr>\n",
       "    <tr>\n",
       "      <th>9</th>\n",
       "      <td>9</td>\n",
       "      <td>SQL</td>\n",
       "      <td>$84,793</td>\n",
       "    </tr>\n",
       "    <tr>\n",
       "      <th>10</th>\n",
       "      <td>10</td>\n",
       "      <td>Go</td>\n",
       "      <td>$94,082</td>\n",
       "    </tr>\n",
       "  </tbody>\n",
       "</table>\n",
       "</div>"
      ],
      "text/plain": [
       "    Unnamed: 0    language                 salary\n",
       "0            0    Language  Average Annual Salary\n",
       "1            1      Python               $114,383\n",
       "2            2        Java               $101,013\n",
       "3            3           R                $92,037\n",
       "4            4  Javascript               $110,981\n",
       "5            5       Swift               $130,801\n",
       "6            6         C++               $113,865\n",
       "7            7          C#                $88,726\n",
       "8            8         PHP                $84,727\n",
       "9            9         SQL                $84,793\n",
       "10          10          Go                $94,082"
      ]
     },
     "execution_count": 11,
     "metadata": {},
     "output_type": "execute_result"
    }
   ],
   "source": [
    "pd.read_csv(\"popular-languages.csv\")"
   ]
  },
  {
   "cell_type": "code",
   "execution_count": null,
   "id": "fd0f4918-f159-4c2a-b863-af65369c0016",
   "metadata": {},
   "outputs": [],
   "source": []
  }
 ],
 "metadata": {
  "kernelspec": {
   "display_name": "Python 3 (ipykernel)",
   "language": "python",
   "name": "python3"
  },
  "language_info": {
   "codemirror_mode": {
    "name": "ipython",
    "version": 3
   },
   "file_extension": ".py",
   "mimetype": "text/x-python",
   "name": "python",
   "nbconvert_exporter": "python",
   "pygments_lexer": "ipython3",
   "version": "3.11.7"
  }
 },
 "nbformat": 4,
 "nbformat_minor": 5
}
